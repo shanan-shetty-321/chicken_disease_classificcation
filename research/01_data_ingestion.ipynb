{
 "cells": [
  {
   "cell_type": "code",
   "execution_count": 1,
   "metadata": {},
   "outputs": [],
   "source": [
    "import os "
   ]
  },
  {
   "cell_type": "code",
   "execution_count": 17,
   "metadata": {},
   "outputs": [
    {
     "data": {
      "text/plain": [
       "'f:\\\\ml\\\\MLPROJECTS\\\\chicken_disease_classificcation'"
      ]
     },
     "execution_count": 17,
     "metadata": {},
     "output_type": "execute_result"
    }
   ],
   "source": [
    "%pwd"
   ]
  },
  {
   "cell_type": "code",
   "execution_count": 18,
   "metadata": {},
   "outputs": [],
   "source": [
    "os.chdir('f:\\\\ml\\\\MLPROJECTS\\\\chicken_disease_classificcation')"
   ]
  },
  {
   "cell_type": "code",
   "execution_count": 19,
   "metadata": {},
   "outputs": [
    {
     "data": {
      "text/plain": [
       "'f:\\\\ml\\\\MLPROJECTS\\\\chicken_disease_classificcation'"
      ]
     },
     "execution_count": 19,
     "metadata": {},
     "output_type": "execute_result"
    }
   ],
   "source": [
    "%pwd"
   ]
  },
  {
   "cell_type": "code",
   "execution_count": 20,
   "metadata": {},
   "outputs": [],
   "source": [
    "from dataclasses import dataclass\n",
    "from pathlib import Path\n",
    "\n",
    "        #this is the entity (DataIngestionConfig) #\n",
    "\n",
    "\n",
    "@dataclass(frozen=True)    ## Makes the class immutable (values cannot be changed after creation) to prevent accidental modification\n",
    "class DataIngestionConfig:\n",
    "    root_dir:Path  ## Main directory for data ingestion\n",
    "    source_URL:str   # # URL of the dataset\n",
    "    local_data_file:Path   # Path to the downloaded dataset file\n",
    "    unzip_dir:Path       # Directory where extracted files will be stored"
   ]
  },
  {
   "cell_type": "code",
   "execution_count": 21,
   "metadata": {},
   "outputs": [],
   "source": [
    "import sys\n",
    "sys.path.append(os.path.join(os.getcwd(), \"src\"))"
   ]
  },
  {
   "cell_type": "code",
   "execution_count": 8,
   "metadata": {},
   "outputs": [
    {
     "name": "stdout",
     "output_type": "stream",
     "text": [
      "Requirement already satisfied: pyyaml in c:\\users\\shanan\\anaconda3\\envs\\chickendisease\\lib\\site-packages (6.0.2)\n",
      "Requirement already satisfied: ensure in c:\\users\\shanan\\anaconda3\\envs\\chickendisease\\lib\\site-packages (1.0.4)\n",
      "Requirement already satisfied: six>=1.11.0 in c:\\users\\shanan\\anaconda3\\envs\\chickendisease\\lib\\site-packages (from ensure) (1.17.0)\n"
     ]
    }
   ],
   "source": [
    "!pip install pyyaml\n",
    "\n",
    "!pip install ensure"
   ]
  },
  {
   "cell_type": "code",
   "execution_count": 9,
   "metadata": {},
   "outputs": [
    {
     "name": "stdout",
     "output_type": "stream",
     "text": [
      "Requirement already satisfied: joblib in c:\\users\\shanan\\anaconda3\\envs\\chickendisease\\lib\\site-packages (1.4.2)\n"
     ]
    }
   ],
   "source": [
    "!pip install joblib"
   ]
  },
  {
   "cell_type": "code",
   "execution_count": 22,
   "metadata": {},
   "outputs": [],
   "source": [
    "from src.cnnClassifier.constants import *\n",
    "from src.cnnClassifier.utils.common import read_yaml,create_directories   \n",
    "#currently humlog chicken_disease_classification ke andhar hai it can directly read from utils as immediate andhar mein voh file nhi hai \n",
    "# as src is inside chicken_disease_classification  then src.cnnclassifier means src ke andhar cnnclassifier ke andhar waalo ko access kartha hai "
   ]
  },
  {
   "cell_type": "code",
   "execution_count": 23,
   "metadata": {},
   "outputs": [],
   "source": [
    "from src.cnnClassifier.constants import *\n",
    "\n",
    "\n",
    "class ConfigurationManager:\n",
    "    def __init__(    #for creating root folders and subfolders for data ingestion \n",
    "        self,\n",
    "        config_filepath = CONFIG_FILE_PATH,   # path to the config file importing from constants.py\n",
    "        params_filepath = PARAMS_FILE_PATH):    # path to the params file importing from constants.py\n",
    "\n",
    "        self.config = read_yaml(config_filepath) # reading the config file\n",
    "        self.params = read_yaml(params_filepath) # reading the params file\n",
    "\n",
    "        create_directories([self.config.artifacts_root]) # creating the root directory for artifacts\n",
    "\n",
    "\n",
    "    \n",
    "    def get_data_ingestion_config(self) -> DataIngestionConfig: \n",
    "        config = self.config.data_ingestion  #storing the config data which is in config.yaml in a variable\n",
    "\n",
    "        create_directories([config.root_dir]) # creating the root directory for data ingestion in artifacts \n",
    "\n",
    "        data_ingestion_config = DataIngestionConfig(  #creating the data ingestion config object where u r reading the data from config.yaml file\n",
    "            root_dir=config.root_dir,\n",
    "            source_URL=config.source_URL,\n",
    "            local_data_file=config.local_data_file,\n",
    "            unzip_dir=config.unzip_dir \n",
    "        )\n",
    "\n",
    "        return data_ingestion_config # return all configuration related to our data ingestion \n",
    "      "
   ]
  },
  {
   "cell_type": "code",
   "execution_count": 11,
   "metadata": {},
   "outputs": [
    {
     "name": "stdout",
     "output_type": "stream",
     "text": [
      "Collecting pyzstd==0.14.4\n",
      "  Downloading pyzstd-0.14.4-cp38-cp38-win_amd64.whl.metadata (3.7 kB)\n",
      "Downloading pyzstd-0.14.4-cp38-cp38-win_amd64.whl (207 kB)\n",
      "Installing collected packages: pyzstd\n",
      "Successfully installed pyzstd-0.14.4\n",
      "Note: you may need to restart the kernel to use updated packages.\n"
     ]
    }
   ],
   "source": [
    "pip install --no-cache-dir pyzstd==0.14.4\n"
   ]
  },
  {
   "cell_type": "code",
   "execution_count": 9,
   "metadata": {},
   "outputs": [
    {
     "name": "stdout",
     "output_type": "stream",
     "text": [
      "Name: pyzstdNote: you may need to restart the kernel to use updated packages.\n",
      "\n",
      "Version: 0.14.4\n",
      "Summary: Python bindings to Zstandard (zstd) compression library, the API is similar to Python's bz2/lzma/zlib module.\n",
      "Home-page: https://github.com/animalize/pyzstd\n",
      "Author: Ma Lin\n",
      "Author-email: malincns@163.com\n",
      "License: The 3-Clause BSD License\n",
      "Location: c:\\users\\shanan\\anaconda3\\envs\\chickendisease\\lib\\site-packages\n",
      "Requires: \n",
      "Required-by: \n"
     ]
    }
   ],
   "source": [
    "pip show pyzstd\n"
   ]
  },
  {
   "cell_type": "code",
   "execution_count": 10,
   "metadata": {},
   "outputs": [
    {
     "name": "stdout",
     "output_type": "stream",
     "text": [
      "Collecting py7zr\n",
      "  Downloading py7zr-0.22.0-py3-none-any.whl.metadata (16 kB)\n",
      "Collecting texttable (from py7zr)\n",
      "  Downloading texttable-1.7.0-py2.py3-none-any.whl.metadata (9.8 kB)\n",
      "Collecting pycryptodomex>=3.16.0 (from py7zr)\n",
      "  Downloading pycryptodomex-3.22.0-cp37-abi3-win_amd64.whl.metadata (3.4 kB)\n",
      "Collecting pyzstd>=0.15.9 (from py7zr)\n",
      "  Downloading pyzstd-0.16.1-cp38-cp38-win_amd64.whl.metadata (2.5 kB)\n",
      "Collecting pyppmd<1.2.0,>=1.1.0 (from py7zr)\n",
      "  Downloading pyppmd-1.1.0-cp38-cp38-win_amd64.whl.metadata (5.8 kB)\n",
      "Collecting pybcj<1.1.0,>=1.0.0 (from py7zr)\n",
      "  Downloading pybcj-1.0.2-cp38-cp38-win_amd64.whl.metadata (4.1 kB)\n",
      "Collecting multivolumefile>=0.2.3 (from py7zr)\n",
      "  Downloading multivolumefile-0.2.3-py3-none-any.whl.metadata (6.3 kB)\n",
      "Collecting inflate64<1.1.0,>=1.0.0 (from py7zr)\n",
      "  Downloading inflate64-1.0.0-cp38-cp38-win_amd64.whl.metadata (4.1 kB)\n",
      "Collecting brotli>=1.1.0 (from py7zr)\n",
      "  Downloading Brotli-1.1.0-cp38-cp38-win_amd64.whl.metadata (5.6 kB)\n",
      "Requirement already satisfied: psutil in c:\\users\\shanan\\anaconda3\\envs\\chickendisease\\lib\\site-packages (from py7zr) (7.0.0)\n",
      "Downloading py7zr-0.22.0-py3-none-any.whl (67 kB)\n",
      "Downloading Brotli-1.1.0-cp38-cp38-win_amd64.whl (357 kB)\n",
      "Downloading inflate64-1.0.0-cp38-cp38-win_amd64.whl (35 kB)\n",
      "Downloading multivolumefile-0.2.3-py3-none-any.whl (17 kB)\n",
      "Downloading pybcj-1.0.2-cp38-cp38-win_amd64.whl (24 kB)\n",
      "Downloading pycryptodomex-3.22.0-cp37-abi3-win_amd64.whl (1.8 MB)\n",
      "   ---------------------------------------- 0.0/1.8 MB ? eta -:--:--\n",
      "   ---------------------------------------- 0.0/1.8 MB ? eta -:--:--\n",
      "   ----- ---------------------------------- 0.3/1.8 MB ? eta -:--:--\n",
      "   ----------- ---------------------------- 0.5/1.8 MB 1.0 MB/s eta 0:00:02\n",
      "   ----------------- ---------------------- 0.8/1.8 MB 931.2 kB/s eta 0:00:02\n",
      "   ----------------------- ---------------- 1.0/1.8 MB 1.0 MB/s eta 0:00:01\n",
      "   ----------------------- ---------------- 1.0/1.8 MB 1.0 MB/s eta 0:00:01\n",
      "   ----------------------------- ---------- 1.3/1.8 MB 986.4 kB/s eta 0:00:01\n",
      "   ---------------------------------- ----- 1.6/1.8 MB 964.5 kB/s eta 0:00:01\n",
      "   ---------------------------------------- 1.8/1.8 MB 1.0 MB/s eta 0:00:00\n",
      "Downloading pyppmd-1.1.0-cp38-cp38-win_amd64.whl (46 kB)\n",
      "Downloading pyzstd-0.16.1-cp38-cp38-win_amd64.whl (244 kB)\n",
      "Downloading texttable-1.7.0-py2.py3-none-any.whl (10 kB)\n",
      "Installing collected packages: texttable, brotli, pyzstd, pyppmd, pycryptodomex, pybcj, multivolumefile, inflate64, py7zr\n",
      "  Attempting uninstall: pyzstd\n",
      "    Found existing installation: pyzstd 0.14.4\n",
      "    Uninstalling pyzstd-0.14.4:\n",
      "      Successfully uninstalled pyzstd-0.14.4\n",
      "Successfully installed brotli-1.1.0 inflate64-1.0.0 multivolumefile-0.2.3 py7zr-0.22.0 pybcj-1.0.2 pycryptodomex-3.22.0 pyppmd-1.1.0 pyzstd-0.16.1 texttable-1.7.0\n",
      "Note: you may need to restart the kernel to use updated packages.\n"
     ]
    }
   ],
   "source": [
    "pip install --no-cache-dir py7zr --only-binary :all:\n"
   ]
  },
  {
   "cell_type": "code",
   "execution_count": null,
   "metadata": {},
   "outputs": [],
   "source": []
  },
  {
   "cell_type": "code",
   "execution_count": 24,
   "metadata": {},
   "outputs": [],
   "source": [
    "import py7zr"
   ]
  },
  {
   "cell_type": "code",
   "execution_count": 25,
   "metadata": {},
   "outputs": [],
   "source": [
    "#update the components \n",
    "\n",
    "import os\n",
    "import urllib.request as request   #to download the dataset \n",
    "import zipfile  #to unzip the data\n",
    "from src.cnnClassifier import logger  \n",
    "from src.cnnClassifier.utils.common import get_size  #for seeing the data size \n"
   ]
  },
  {
   "cell_type": "code",
   "execution_count": null,
   "metadata": {},
   "outputs": [
    {
     "name": "stdout",
     "output_type": "stream",
     "text": [
      "Unexpected exception formatting exception. Falling back to standard exception\n"
     ]
    },
    {
     "name": "stderr",
     "output_type": "stream",
     "text": [
      "Traceback (most recent call last):\n",
      "  File \"c:\\Users\\Shanan\\anaconda3\\envs\\chickendisease\\lib\\site-packages\\IPython\\core\\interactiveshell.py\", line 3508, in run_code\n",
      "    exec(code_obj, self.user_global_ns, self.user_ns)\n",
      "  File \"C:\\Users\\Shanan\\AppData\\Local\\Temp\\ipykernel_3972\\3880580286.py\", line 1, in <module>\n",
      "    from src.components.data_ingestion import DataIngestion  # Adjust path if needed\n",
      "ModuleNotFoundError: No module named 'src.components'\n",
      "\n",
      "During handling of the above exception, another exception occurred:\n",
      "\n",
      "Traceback (most recent call last):\n",
      "  File \"c:\\Users\\Shanan\\anaconda3\\envs\\chickendisease\\lib\\site-packages\\IPython\\core\\interactiveshell.py\", line 2105, in showtraceback\n",
      "    stb = self.InteractiveTB.structured_traceback(\n",
      "  File \"c:\\Users\\Shanan\\anaconda3\\envs\\chickendisease\\lib\\site-packages\\IPython\\core\\ultratb.py\", line 1396, in structured_traceback\n",
      "    return FormattedTB.structured_traceback(\n",
      "  File \"c:\\Users\\Shanan\\anaconda3\\envs\\chickendisease\\lib\\site-packages\\IPython\\core\\ultratb.py\", line 1287, in structured_traceback\n",
      "    return VerboseTB.structured_traceback(\n",
      "  File \"c:\\Users\\Shanan\\anaconda3\\envs\\chickendisease\\lib\\site-packages\\IPython\\core\\ultratb.py\", line 1140, in structured_traceback\n",
      "    formatted_exception = self.format_exception_as_a_whole(etype, evalue, etb, number_of_lines_of_context,\n",
      "  File \"c:\\Users\\Shanan\\anaconda3\\envs\\chickendisease\\lib\\site-packages\\IPython\\core\\ultratb.py\", line 1055, in format_exception_as_a_whole\n",
      "    frames.append(self.format_record(record))\n",
      "  File \"c:\\Users\\Shanan\\anaconda3\\envs\\chickendisease\\lib\\site-packages\\IPython\\core\\ultratb.py\", line 955, in format_record\n",
      "    frame_info.lines, Colors, self.has_colors, lvals\n",
      "  File \"c:\\Users\\Shanan\\anaconda3\\envs\\chickendisease\\lib\\site-packages\\IPython\\core\\ultratb.py\", line 778, in lines\n",
      "    return self._sd.lines\n",
      "  File \"c:\\Users\\Shanan\\anaconda3\\envs\\chickendisease\\lib\\site-packages\\stack_data\\utils.py\", line 145, in cached_property_wrapper\n",
      "    value = obj.__dict__[self.func.__name__] = self.func(obj)\n",
      "  File \"c:\\Users\\Shanan\\anaconda3\\envs\\chickendisease\\lib\\site-packages\\stack_data\\core.py\", line 734, in lines\n",
      "    pieces = self.included_pieces\n",
      "  File \"c:\\Users\\Shanan\\anaconda3\\envs\\chickendisease\\lib\\site-packages\\stack_data\\utils.py\", line 145, in cached_property_wrapper\n",
      "    value = obj.__dict__[self.func.__name__] = self.func(obj)\n",
      "  File \"c:\\Users\\Shanan\\anaconda3\\envs\\chickendisease\\lib\\site-packages\\stack_data\\core.py\", line 677, in included_pieces\n",
      "    scope_pieces = self.scope_pieces\n",
      "  File \"c:\\Users\\Shanan\\anaconda3\\envs\\chickendisease\\lib\\site-packages\\stack_data\\utils.py\", line 145, in cached_property_wrapper\n",
      "    value = obj.__dict__[self.func.__name__] = self.func(obj)\n",
      "  File \"c:\\Users\\Shanan\\anaconda3\\envs\\chickendisease\\lib\\site-packages\\stack_data\\core.py\", line 614, in scope_pieces\n",
      "    scope_start, scope_end = self.source.line_range(self.scope)\n",
      "  File \"c:\\Users\\Shanan\\anaconda3\\envs\\chickendisease\\lib\\site-packages\\stack_data\\core.py\", line 178, in line_range\n",
      "    return line_range(self.asttext(), node)\n",
      "AttributeError: 'Source' object has no attribute 'asttext'\n"
     ]
    }
   ],
   "source": []
  },
  {
   "cell_type": "code",
   "execution_count": 33,
   "metadata": {},
   "outputs": [],
   "source": [
    "class DataIngestion:   #to get the components \n",
    "    def __init__(self, config: DataIngestionConfig):\n",
    "        self.config = config    #it will take config of the data ingestion \n",
    "\n",
    "\n",
    "    \n",
    "    def download_file(self):   #download the file from the URL\n",
    "        if not os.path.exists(self.config.local_data_file):  #if the file does not exist then download it\n",
    "            filename, headers = request.urlretrieve(\n",
    "                url = self.config.source_URL,\n",
    "                filename = self.config.local_data_file\n",
    "            )\n",
    "            logger.info(f\"{filename} download! with following info: \\n{headers}\") #logging the info of the file downloaded\n",
    "        else:\n",
    "            logger.info(f\"File already exists of size: {get_size(Path(self.config.local_data_file))}\")  \n",
    "\n",
    "\n",
    "    \n",
    "    def extract_zip_file(self):\n",
    "        \"\"\"\n",
    "        zip_file_path: str\n",
    "        Extracts the zip file into the data directory\n",
    "        Function returns None\n",
    "        \"\"\"\n",
    "        source_path = self.config.local_data_file\n",
    "        unzip_path = self.config.unzip_dir\n",
    "        os.makedirs(unzip_path, exist_ok=True)\n",
    "        with py7zr.SevenZipFile(source_path, mode='r') as archive:\n",
    "            archive.extractall(path=unzip_path) #extract all the files in the zip file to the unzip path"
   ]
  },
  {
   "cell_type": "code",
   "execution_count": 34,
   "metadata": {},
   "outputs": [
    {
     "name": "stdout",
     "output_type": "stream",
     "text": [
      "[2025-03-30 01:45:33,910: INFO:common: yaml file: config\\config.yaml loaded successfully]\n",
      "[2025-03-30 01:45:33,915: INFO:common: yaml file: params.yaml loaded successfully]\n",
      "[2025-03-30 01:45:33,916: INFO:common: created directory at: artifacts]\n",
      "[2025-03-30 01:45:33,919: INFO:common: created directory at: artifacts/data_ingestion]\n",
      "[2025-03-30 01:45:33,921: INFO:1049508508: File already exists of size: ~ 10848 KB]\n"
     ]
    }
   ],
   "source": [
    "#creating the pipeline (sequentially executing the code)\n",
    "import logging\n",
    "try:\n",
    "    config = ConfigurationManager() #creating the config object\n",
    "    data_ingestion_config = config.get_data_ingestion_config() #return all configuration related to our data ingestion\n",
    "    data_ingestion = DataIngestion(config=data_ingestion_config) # creating the data ingestion object\n",
    "    #to download the file and extract the zip file\n",
    "    data_ingestion.download_file()\n",
    "    data_ingestion.extract_zip_file()\n",
    "except Exception as e:\n",
    "    raise e\n"
   ]
  },
  {
   "cell_type": "code",
   "execution_count": null,
   "metadata": {},
   "outputs": [
    {
     "name": "stdout",
     "output_type": "stream",
     "text": [
      "Config Path: config\\config.yaml\n",
      "Params Path: params.yaml\n"
     ]
    }
   ],
   "source": [
    "#now do modular coding \n",
    "#step 1- no need , 2 no need , 3- no need for now \n",
    "#step 4 update entitiy now make config_entity.py  copying  this code as it is  \n",
    "#  from dataclasses import dataclass\n",
    "# from pathlib import Path\n",
    "\n",
    "#         #this is the entity (DataIngestionConfig) #\n",
    "\n",
    "\n",
    "# @dataclass(frozen=True)    ## Makes the class immutable (values cannot be changed after creation) to prevent accidental modification\n",
    "# class DataIngestionConfig:\n",
    "#     root_dir:Path  ## Main directory for data ingestion\n",
    "#     source_URL:str   # # URL of the dataset\n",
    "#     local_data_file:Path   # Path to the downloaded dataset file\n",
    "#     unzip_dir:Path       # Directory where extracted files will be stored\n",
    "\n",
    "#step 5 update the configuration manager in configuration.py\n",
    "#update the components so create it data_ingestion.py \n",
    "#now update the pipeline "
   ]
  },
  {
   "cell_type": "code",
   "execution_count": null,
   "metadata": {},
   "outputs": [],
   "source": []
  }
 ],
 "metadata": {
  "kernelspec": {
   "display_name": "chickendisease",
   "language": "python",
   "name": "python3"
  },
  "language_info": {
   "codemirror_mode": {
    "name": "ipython",
    "version": 3
   },
   "file_extension": ".py",
   "mimetype": "text/x-python",
   "name": "python",
   "nbconvert_exporter": "python",
   "pygments_lexer": "ipython3",
   "version": "3.8.20"
  }
 },
 "nbformat": 4,
 "nbformat_minor": 2
}
